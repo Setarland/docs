{
 "cells": [
  {
   "cell_type": "markdown",
   "metadata": {
    "collapsed": true,
    "pycharm": {
     "name": "#%% md\n"
    }
   },
   "source": [
    "# Single trading pair EMA crossover strategy\n",
    "\n",
    "\n",
    "This is an example notebook how to create and run backtests with\n",
    "[tradeexecutor](https://tradingstrategy.ai/docs/programming/api/execution/index.html) framework.\n",
    "\n",
    "Some highlights of this notebook:\n",
    "\n",
    "* The backtest has all its code within a single Jupyter notebook\n",
    "    - The backtest code and charts are self-contained in a single file\n",
    "    - The example code is easy to read\n",
    "    - Easy to test different functionalities of [tradeexecutor](https://tradingstrategy.ai/docs/programming/api/execution/index.html) library\n",
    "* Runs a backtest for [EMA strategy](https://tradingstrategy.ai/docs/glossary.html#term-EMA) on a single trading pair\n",
    "    - Uses PancakeSwap on BNB chain for trading\n",
    "    - Based on fast EMA and slow EMA\n",
    "    - Depending on the moving average overlap, enters in to a position\n",
    "* You need a [Trading Strategy API key](https://tradingstrategy.ai/trading-view/backtesting) to run the notebook\n",
    "* This backtest is made to demostrate the features\n",
    "    - The strategy may or may not generate any profits, as it is not the purpose of this example\n"
   ]
  },
  {
   "cell_type": "markdown",
   "metadata": {
    "collapsed": false,
    "pycharm": {
     "name": "#%% md\n"
    }
   },
   "source": [
    "## Set up\n",
    "\n",
    "Set up the parameters used in in this strategy backtest study.\n",
    "\n",
    "- Backtested blockchain, exchange and trading pair\n",
    "- Backtesting period\n",
    "- Strategy parameters for EMA crossovers"
   ]
  },
  {
   "cell_type": "code",
   "execution_count": null,
   "metadata": {
    "collapsed": false,
    "pycharm": {
     "name": "#%%\n"
    }
   },
   "outputs": [],
   "source": [
    "import datetime\n",
    "import pandas as pd\n",
    "\n",
    "from tradingstrategy.chain import ChainId\n",
    "from tradingstrategy.timebucket import TimeBucket\n",
    "from tradeexecutor.strategy.cycle import CycleDuration\n",
    "from tradeexecutor.strategy.strategy_module import StrategyType, TradeRouting, ReserveCurrency\n",
    "\n",
    "# Tell what trade execution engine version this strategy needs to use\n",
    "# NOTE: this setting has currently no effect\n",
    "TRADING_STRATEGY_TYPE_ENGINE_VERSION = \"0.1\"\n",
    "\n",
    "# What kind of strategy we are running.\n",
    "# This tells we are going to use\n",
    "# NOTE: this setting has currently no effect\n",
    "TRADING_STRATEGY_TYPE = StrategyType.managed_positions\n",
    "\n",
    "# How our trades are routed.\n",
    "# PancakeSwap basic routing supports two way trades with BUSD\n",
    "# and three way trades with BUSD-BNB hop.\n",
    "TRADE_ROUTING = TradeRouting.pancakeswap_basic\n",
    "\n",
    "# How often the strategy performs the decide_trades cycle.\n",
    "# We do it for every 16h.\n",
    "TRADING_STRATEGY_CYCLE = CycleDuration.cycle_4h\n",
    "\n",
    "# Strategy keeps its cash in BUSD\n",
    "RESERVE_CURRENCY = ReserveCurrency.busd\n",
    "\n",
    "# Time bucket for our candles\n",
    "CANDLE_TIME_BUCKET = TimeBucket.h4\n",
    "\n",
    "# Which chain we are trading\n",
    "CHAIN_ID = ChainId.bsc\n",
    "\n",
    "# Which exchange we are trading on.\n",
    "EXCHANGE_SLUG = \"pancakeswap-v2\"\n",
    "\n",
    "# Which trading pair we are trading\n",
    "TRADING_PAIR = (\"WBNB\", \"BUSD\")\n",
    "\n",
    "# How much of the cash to put on a single trade\n",
    "POSITION_SIZE = 0.10\n",
    "\n",
    "#\n",
    "# Strategy thinking specific parameter\n",
    "#\n",
    "\n",
    "BATCH_SIZE = 90\n",
    "\n",
    "SLOW_EMA_CANDLE_COUNT = 39\n",
    "FAST_EMA_CANDLE_COUNT = 15\n",
    "\n",
    "\n",
    "# Range of backtesting and synthetic data generation.\n",
    "# Because we are using synthetic data actual dates do not really matter -\n",
    "# only the duration\n",
    "\n",
    "START_AT = datetime.datetime(2021, 7, 1)\n",
    "\n",
    "END_AT = datetime.datetime(2022, 1, 1)\n",
    "\n",
    "# Start with 10,000 USD\n",
    "INITIAL_DEPOSIT = 10_000\n",
    "\n"
   ]
  },
  {
   "cell_type": "markdown",
   "metadata": {
    "collapsed": false,
    "pycharm": {
     "name": "#%% md\n"
    }
   },
   "source": [
    "## Strategy logic and trade decisions\n",
    "\n",
    "`decide_trades` function decide what trades to take.\n",
    "In this example, we calculate two exponential moving averages\n",
    "(EMAs) and make decisions based on those.\n"
   ]
  },
  {
   "cell_type": "code",
   "execution_count": null,
   "metadata": {
    "collapsed": false,
    "pycharm": {
     "name": "#%%\n"
    }
   },
   "outputs": [],
   "source": [
    "from typing import List, Dict\n",
    "\n",
    "from pandas_ta.overlap import ema\n",
    "\n",
    "from tradeexecutor.state.visualisation import PlotKind\n",
    "from tradeexecutor.state.trade import TradeExecution\n",
    "from tradeexecutor.strategy.pricing_model import PricingModel\n",
    "from tradeexecutor.strategy.pandas_trader.position_manager import PositionManager\n",
    "from tradeexecutor.state.state import State\n",
    "from tradingstrategy.universe import Universe\n",
    "\n",
    "\n",
    "def decide_trades(\n",
    "        timestamp: pd.Timestamp,\n",
    "        universe: Universe,\n",
    "        state: State,\n",
    "        pricing_model: PricingModel,\n",
    "        cycle_debug_data: Dict) -> List[TradeExecution]:\n",
    "    \"\"\"The brain function to decide the trades on each trading strategy cycle.\n",
    "\n",
    "    - Reads incoming execution state (positions, past trades)\n",
    "\n",
    "    - Reads the current universe (candles)\n",
    "\n",
    "    - Decides what trades to do next, if any, at current timestamp.\n",
    "\n",
    "    - Outputs strategy thinking for visualisation and debug messages\n",
    "\n",
    "    :param timestamp:\n",
    "        The Pandas timestamp object for this cycle. Matches\n",
    "        TRADING_STRATEGY_CYCLE division.\n",
    "        Always truncated to the zero seconds and minutes, never a real-time clock.\n",
    "\n",
    "    :param universe:\n",
    "        Trading universe that was constructed earlier.\n",
    "\n",
    "    :param state:\n",
    "        The current trade execution state.\n",
    "        Contains current open positions and all previously executed trades, plus output\n",
    "        for statistics, visualisation and diangnostics of the strategy.\n",
    "\n",
    "    :param pricing_model:\n",
    "        Pricing model can tell the buy/sell price of the particular asset at a particular moment.\n",
    "\n",
    "    :param cycle_debug_data:\n",
    "        Python dictionary for various debug variables you can read or set, specific to this trade cycle.\n",
    "        This data is discarded at the end of the trade cycle.\n",
    "\n",
    "    :return:\n",
    "        List of trade instructions in the form of :py:class:`TradeExecution` instances.\n",
    "        The trades can be generated using `position_manager` but strategy could also hand craft its trades.\n",
    "    \"\"\"\n",
    "\n",
    "    # The pair we are trading\n",
    "    pair = universe.pairs.get_single()\n",
    "\n",
    "    # How much cash we have in the hand\n",
    "    cash = state.portfolio.get_current_cash()\n",
    "\n",
    "    # Get OHLCV candles for our trading pair as Pandas Dataframe.\n",
    "    # We could have candles for multiple trading pairs in a different strategy,\n",
    "    # but this strategy only operates on single pair candle.\n",
    "    # We also limit our sample size to N latest candles to speed up calculations.\n",
    "    candles: pd.DataFrame = universe.candles.get_single_pair_data(timestamp, sample_count=BATCH_SIZE)\n",
    "\n",
    "    # We have data for open, high, close, etc.\n",
    "    # We only operate using candle close values in this strategy.\n",
    "    close_prices = candles[\"close\"]\n",
    "\n",
    "    # Calculate exponential moving averages based on slow and fast sample numbers.\n",
    "    slow_ema_series = ema(close_prices, length=SLOW_EMA_CANDLE_COUNT)\n",
    "    fast_ema_series = ema(close_prices, length=FAST_EMA_CANDLE_COUNT)\n",
    "\n",
    "    if slow_ema_series is None or fast_ema_series is None:\n",
    "        # Cannot calculate EMA, because\n",
    "        # not enough samples in backtesting\n",
    "        return []\n",
    "\n",
    "    if len(slow_ema_series) < 2 or len(fast_ema_series) < 2:\n",
    "        # We need at least two data points to determine if EMA crossover (or crossunder)\n",
    "        # occurred at current timestamp. \n",
    "        return []\n",
    "\n",
    "    slow_ema_latest = slow_ema_series.iloc[-1]\n",
    "    fast_ema_latest = fast_ema_series.iloc[-1]\n",
    "    price_latest = close_prices.iloc[-1]\n",
    "\n",
    "    # Compute technical indicators needed for trade decisions.\n",
    "    slow_ema_crossover = (\n",
    "        close_prices.iloc[-2] < slow_ema_series.iloc[-2]\n",
    "        and price_latest > slow_ema_latest\n",
    "    )\n",
    "    slow_ema_crossunder = (\n",
    "        close_prices.iloc[-2] > slow_ema_series.iloc[-2]\n",
    "        and price_latest < slow_ema_latest\n",
    "    )\n",
    "    fast_ema_crossunder = (\n",
    "        close_prices.iloc[-2] > fast_ema_series.iloc[-2]\n",
    "        and price_latest < fast_ema_latest\n",
    "    )\n",
    "\n",
    "    # List of any trades we decide on this cycle.\n",
    "    trades = []\n",
    "\n",
    "    # Create a position manager helper class that allows us easily to create\n",
    "    # opening/closing trades for different positions\n",
    "    position_manager = PositionManager(timestamp, universe, state, pricing_model)\n",
    "\n",
    "    if not position_manager.is_any_open():\n",
    "        # No open positions, decide if BUY in this cycle.\n",
    "        # We buy if we just crossed over the slow EMA or if this is a very first\n",
    "        # trading cycle and the price is already above the slow EMA.\n",
    "        if (\n",
    "            slow_ema_crossover\n",
    "            or price_latest > slow_ema_latest and timestamp == START_AT\n",
    "        ):\n",
    "            buy_amount = cash * POSITION_SIZE\n",
    "            new_trades = position_manager.open_1x_long(pair, buy_amount)\n",
    "            trades.extend(new_trades)\n",
    "    else:\n",
    "        # We have an open position, decide if SELL in this cycle.\n",
    "        # We do that if we fall below any of the two moving averages.\n",
    "        if slow_ema_crossunder or fast_ema_crossunder:\n",
    "            new_trades = position_manager.close_all()\n",
    "            assert len(new_trades) == 1\n",
    "            trades.extend(new_trades)\n",
    "\n",
    "    # Visualize strategy\n",
    "    # See available Plotly colours here\n",
    "    # https://community.plotly.com/t/plotly-colours-list/11730/3?u=miohtama\n",
    "    visualisation = state.visualisation\n",
    "    visualisation.plot_indicator(timestamp, \"Slow EMA\", PlotKind.technical_indicator_on_price, slow_ema_latest, colour=\"darkblue\")\n",
    "    visualisation.plot_indicator(timestamp, \"Fast EMA\", PlotKind.technical_indicator_on_price, fast_ema_latest, colour=\"#009900\")\n",
    "\n",
    "    return trades"
   ]
  },
  {
   "cell_type": "markdown",
   "metadata": {
    "collapsed": false,
    "pycharm": {
     "name": "#%% md\n"
    }
   },
   "source": []
  },
  {
   "cell_type": "markdown",
   "metadata": {
    "collapsed": false,
    "pycharm": {
     "name": "#%% md\n"
    }
   },
   "source": [
    "## Defining the trading universe\n",
    "\n",
    "We create a trading universe with a single blockchain, exchange and trading pair.\n",
    "For the sake of easier understanding the code, we name this \"Uniswap v2\" like exchange with a single ETH-USDC trading pair.\n",
    "\n",
    "The trading pair contains generated noise-like OHLCV trading data."
   ]
  },
  {
   "cell_type": "code",
   "execution_count": null,
   "metadata": {
    "collapsed": false,
    "pycharm": {
     "name": "#%%\n"
    }
   },
   "outputs": [],
   "source": [
    "from typing import Optional\n",
    "from tradeexecutor.strategy.trading_strategy_universe import load_all_data, TradingStrategyUniverse\n",
    "from tradeexecutor.strategy.execution_context import ExecutionContext\n",
    "from tradingstrategy.client import Client\n",
    "import datetime\n",
    "\n",
    "def create_trading_universe(\n",
    "        ts: datetime.datetime,\n",
    "        client: Client,\n",
    "        execution_context: ExecutionContext,\n",
    "        candle_time_frame_override: Optional[TimeBucket]=None,\n",
    ") -> TradingStrategyUniverse:\n",
    "    \"\"\"Creates the trading universe where the strategy trades.\n",
    "\n",
    "    If `execution_context.live_trading` is true then this function is called for\n",
    "    every execution cycle. If we are backtesting, then this function is\n",
    "    called only once at the start of backtesting and the `decide_trades`\n",
    "    need to deal with new and deprecated trading pairs.\n",
    "\n",
    "    As we are only trading a single pair, load data for the single pair only.\n",
    "\n",
    "    :param ts:\n",
    "        The timestamp of the trading cycle. For live trading,\n",
    "        `create_trading_universe` is called on every cycle.\n",
    "        For backtesting, it is only called at the start\n",
    "\n",
    "    :param client:\n",
    "        Trading Strategy Python client instance.\n",
    "\n",
    "    :param execution_context:\n",
    "        Information how the strategy is executed. E.g.\n",
    "        if we are live trading or not.\n",
    "\n",
    "    :param candle_timeframe_override:\n",
    "        Allow the backtest framework override what candle size is used to backtest the strategy\n",
    "        without editing the strategy Python source code file.\n",
    "\n",
    "    :return:\n",
    "        This function must return :py:class:`TradingStrategyUniverse` instance\n",
    "        filled with the data for exchanges, pairs and candles needed to decide trades.\n",
    "        The trading universe also contains information about the reserve asset,\n",
    "        usually stablecoin, we use for the strategy.\n",
    "    \"\"\"\n",
    "\n",
    "    # Load all datas we can get for our candle time bucket\n",
    "    dataset = load_all_data(client, CANDLE_TIME_BUCKET, execution_context)\n",
    "\n",
    "    # Filter down to the single pair we are interested in\n",
    "    universe = TradingStrategyUniverse.create_single_pair_universe(\n",
    "        dataset,\n",
    "        CHAIN_ID,\n",
    "        EXCHANGE_SLUG,\n",
    "        TRADING_PAIR[0],\n",
    "        TRADING_PAIR[1],\n",
    "    )\n",
    "\n",
    "    return universe"
   ]
  },
  {
   "cell_type": "markdown",
   "metadata": {
    "collapsed": false,
    "pycharm": {
     "name": "#%% md\n"
    }
   },
   "source": [
    "## Set up the market data client\n",
    "\n",
    "The [Trading Strategy market data client](https://tradingstrategy.ai/docs/programming/api/client/index.html)\n",
    "is the Python library responsible for managing the data feeds needed to run the backtest.None\n",
    "\n",
    "We set up the market data client with an API key.\n",
    "\n",
    "[If you do not have an API key yet, you can register one](https://tradingstrategy.ai/trading-view/backtesting)."
   ]
  },
  {
   "cell_type": "code",
   "execution_count": null,
   "metadata": {
    "collapsed": false,
    "pycharm": {
     "name": "#%%\n"
    }
   },
   "outputs": [],
   "source": [
    "from tradingstrategy.client import Client\n",
    "\n",
    "client = Client.create_jupyter_client()"
   ]
  },
  {
   "cell_type": "markdown",
   "metadata": {
    "collapsed": false,
    "pycharm": {
     "name": "#%% md\n"
    }
   },
   "source": [
    "## Run backtest\n",
    "\n",
    "Run backtest using giving trading universe and strategy function.\n",
    "\n",
    "- Running the backtest outputs `state` object that contains all the information\n",
    "on the backtesting position and trades.\n",
    "- The trade execution engine will download the necessary datasets to run the backtest.\n",
    "  The datasets may be large, several gigabytes.\n"
   ]
  },
  {
   "cell_type": "code",
   "execution_count": null,
   "metadata": {
    "collapsed": false,
    "pycharm": {
     "name": "#%%\n"
    }
   },
   "outputs": [],
   "source": [
    "import logging\n",
    "\n",
    "from tradeexecutor.backtest.backtest_runner import run_backtest_inline\n",
    "\n",
    "state, universe, debug_dump = run_backtest_inline(\n",
    "    name=\"BNB/USD fast and slow EMA example\",\n",
    "    start_at=START_AT,\n",
    "    end_at=END_AT,\n",
    "    client=client,\n",
    "    cycle_duration=TRADING_STRATEGY_CYCLE,\n",
    "    decide_trades=decide_trades,\n",
    "    create_trading_universe=create_trading_universe,\n",
    "    initial_deposit=INITIAL_DEPOSIT,\n",
    "    reserve_currency=RESERVE_CURRENCY,\n",
    "    trade_routing=TRADE_ROUTING,\n",
    "    log_level=logging.WARNING,\n",
    ")\n",
    "\n",
    "trade_count = len(list(state.portfolio.get_all_trades()))\n",
    "print(f\"Backtesting completed, backtested strategy made {trade_count} trades\")"
   ]
  },
  {
   "cell_type": "markdown",
   "metadata": {
    "collapsed": false
   },
   "source": [
    "## Examine backtest results\n",
    "\n",
    "Examine `state` that contains all actions the trade executor took.\n",
    "\n",
    "We plot out a chart that shows\n",
    "- The price action\n",
    "- When the strategy made buys or sells"
   ]
  },
  {
   "cell_type": "code",
   "execution_count": null,
   "metadata": {
    "collapsed": false,
    "pycharm": {
     "name": "#%%\n"
    }
   },
   "outputs": [],
   "source": [
    "print(f\"Positions taken: {len(list(state.portfolio.get_all_positions()))}\")\n",
    "print(f\"Trades made: {len(list(state.portfolio.get_all_trades()))}\")"
   ]
  },
  {
   "cell_type": "code",
   "execution_count": null,
   "metadata": {
    "collapsed": false,
    "pycharm": {
     "name": "#%%\n"
    }
   },
   "outputs": [],
   "source": [
    "from tradeexecutor.visual.single_pair import visualise_single_pair\n",
    "\n",
    "figure = visualise_single_pair(\n",
    "    state,\n",
    "    universe.universe.candles,\n",
    "    start_at=START_AT,\n",
    "    end_at=END_AT)\n",
    "\n",
    "figure.show()"
   ]
  },
  {
   "cell_type": "markdown",
   "metadata": {
    "collapsed": false
   },
   "source": [
    "## Benchmarking the strategy performance\n",
    "\n",
    "Here we benchmark the strategy performance against some baseline scenarios.\n",
    "\n",
    "- Buy and hold US dollar\n",
    "- Buy and hold the underlying trading pair base asset\n"
   ]
  },
  {
   "cell_type": "code",
   "execution_count": null,
   "metadata": {
    "collapsed": false,
    "pycharm": {
     "name": "#%%\n"
    }
   },
   "outputs": [],
   "source": [
    "close = universe.universe.candles.get_single_pair_data()[\"close\"]"
   ]
  },
  {
   "cell_type": "code",
   "execution_count": null,
   "metadata": {
    "collapsed": false,
    "pycharm": {
     "name": "#%%\n"
    }
   },
   "outputs": [],
   "source": [
    "from tradeexecutor.visual.benchmark import visualise_benchmark\n",
    "\n",
    "traded_pair = universe.universe.pairs.get_single()\n",
    "\n",
    "fig = visualise_benchmark(\n",
    "    state.name,\n",
    "    portfolio_statistics=state.stats.portfolio,\n",
    "    all_cash=state.portfolio.get_initial_deposit(),\n",
    "    buy_and_hold_asset_name=traded_pair.base_token_symbol,\n",
    "    buy_and_hold_price_series=universe.universe.candles.get_single_pair_data()[\"close\"],\n",
    "    start_at=START_AT,\n",
    "    end_at=END_AT\n",
    ")\n",
    "\n",
    "fig.show()"
   ]
  },
  {
   "cell_type": "markdown",
   "metadata": {
    "collapsed": false
   },
   "source": [
    "## Analysing  the strategy success\n",
    "\n",
    "Here we calculate statistics on how well the strategy performed.\n",
    "\n",
    "- Won/lost trades\n",
    "- Timeline of taken positions with color coding of trade performance\n"
   ]
  },
  {
   "cell_type": "code",
   "execution_count": null,
   "metadata": {
    "collapsed": false,
    "pycharm": {
     "name": "#%%\n"
    }
   },
   "outputs": [],
   "source": [
    "from tradeexecutor.analysis.trade_analyser import build_trade_analysis\n",
    "\n",
    "analysis = build_trade_analysis(state.portfolio)"
   ]
  },
  {
   "cell_type": "markdown",
   "metadata": {
    "collapsed": false
   },
   "source": [
    "### Strategy summary\n",
    "\n",
    "Overview of strategy performance\n",
    "\n"
   ]
  },
  {
   "cell_type": "code",
   "execution_count": null,
   "metadata": {
    "collapsed": false,
    "pycharm": {
     "name": "#%%\n"
    }
   },
   "outputs": [],
   "source": [
    "from IPython.core.display_functions import display\n",
    "\n",
    "summary = analysis.calculate_summary_statistics()\n",
    "\n",
    "with pd.option_context(\"display.max_row\", None):\n",
    "    display(summary.to_dataframe())"
   ]
  },
  {
   "cell_type": "markdown",
   "metadata": {
    "collapsed": false
   },
   "source": [
    "### Position and trade timeline\n",
    "\n",
    "Display all positions and how much profit they made."
   ]
  },
  {
   "cell_type": "code",
   "execution_count": null,
   "metadata": {
    "collapsed": false,
    "pycharm": {
     "name": "#%%\n"
    }
   },
   "outputs": [],
   "source": [
    "from tradeexecutor.analysis.trade_analyser import expand_timeline\n",
    "\n",
    "timeline = analysis.create_timeline()\n",
    "\n",
    "expanded_timeline, apply_styles = expand_timeline(\n",
    "        universe.universe.exchanges,\n",
    "        universe.universe.pairs,\n",
    "        timeline)\n",
    "\n",
    "# Do not truncate the row output\n",
    "with pd.option_context(\"display.max_row\", None):\n",
    "    display(apply_styles(expanded_timeline))\n"
   ]
  },
  {
   "cell_type": "markdown",
   "metadata": {
    "collapsed": false
   },
   "source": [
    "## Finishing notes\n",
    "\n",
    "Print out a line to signal the notebook finished the execution successfully."
   ]
  },
  {
   "cell_type": "code",
   "execution_count": null,
   "metadata": {
    "collapsed": false,
    "pycharm": {
     "name": "#%%\n"
    }
   },
   "outputs": [],
   "source": [
    "print(\"All ok\")"
   ]
  }
 ],
 "metadata": {
  "kernelspec": {
   "display_name": "Python 3.10.5 ('trade-executor-Am-JnYvm-py3.10')",
   "language": "python",
   "name": "python3"
  },
  "language_info": {
   "codemirror_mode": {
    "name": "ipython",
    "version": 3
   },
   "file_extension": ".py",
   "mimetype": "text/x-python",
   "name": "python",
   "nbconvert_exporter": "python",
   "pygments_lexer": "ipython3",
   "version": "3.10.5"
  },
  "vscode": {
   "interpreter": {
    "hash": "852a0b89185f483bfb40cbf20471ad03e72bcc48d4b3bf872361886992f60e3a"
   }
  }
 },
 "nbformat": 4,
 "nbformat_minor": 0
}
